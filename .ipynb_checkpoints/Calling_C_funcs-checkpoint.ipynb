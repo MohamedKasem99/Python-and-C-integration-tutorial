{
 "cells": [
  {
   "cell_type": "markdown",
   "metadata": {},
   "source": [
    "# Calling compiled C code with python\n",
    "\n",
    "This tutorial explores how to compile C code and importing it to your scope. I will be using linux (ubuntu 18.04), but it will work with whatever OS    \n",
    "**You have to have a c/c++ compiler installed**  \n",
    "#### 1- Create a C File \"C_funcs.cpp\" with some functions (squre and cube in our case). Something like this:  \n",
    "```C\n",
    "#include <stdio.h>\n",
    "#include <math.h>\n",
    "extern \"C\"\n",
    "{\n",
    "    int square(int i) {\n",
    "        return i * i;\n",
    "    }\n",
    "    int cube(int i)\n",
    "    {\n",
    "        return i * i * i;\n",
    "    }\n",
    "    float square_root(float i)\n",
    "    {\n",
    "        return sqrt(i);\n",
    "    }\n",
    "\n",
    "    double sum_array(double a[], int size_a)\n",
    "    {\n",
    "        double summ = 0;\n",
    "        for(int i = 0; i<size_a; i++)\n",
    "        {\n",
    "            summ += a[i];\n",
    "        }\n",
    "        return summ;\n",
    "    }\n",
    "\n",
    "}\n",
    "```\n",
    "***It's VERY important to use the ```extern \"C\"``` syntax because c++ has many***\n",
    "#### 2- Place the .cpp/.c file in the same directory in which you have your python code.  \n",
    "#### 3- Compile this file to a shared library with the following command:  \n",
    "```bash\n",
    "gcc -shared -o C_funcs.o C_funcs.cpp\n",
    "```\n",
    "since we included the ```extern \"C\"``` syntax, the compiler is basically changing c++ into c and then using the compiled c code with python.\n",
    "#### 4- run the following python code to test it for yourself.  \n",
    "***I use python os library to get to the .o file directory***"
   ]
  },
  {
   "cell_type": "code",
   "execution_count": 9,
   "metadata": {},
   "outputs": [],
   "source": [
    "from ctypes import *\n",
    "import os\n",
    "import numpy as np\n",
    "import time"
   ]
  },
  {
   "cell_type": "code",
   "execution_count": 3,
   "metadata": {},
   "outputs": [],
   "source": [
    "!g++ -fPIC -shared -o C_funcs.so C_funcs.cpp"
   ]
  },
  {
   "cell_type": "code",
   "execution_count": 4,
   "metadata": {},
   "outputs": [],
   "source": [
    "crnt_work_dir = os.getcwd()\n",
    "\n",
    "for file_name in os.listdir(crnt_work_dir):\n",
    "    #find the file with the .o extension\n",
    "    if file_name.endswith(\".so\"):\n",
    "        #create full dir string\n",
    "        o_file = os.path.join(crnt_work_dir,file_name)\n"
   ]
  },
  {
   "cell_type": "code",
   "execution_count": 5,
   "metadata": {},
   "outputs": [],
   "source": [
    "#get object file in scope\n",
    "my_funcs = CDLL(o_file)\n",
    "\n",
    "#set argument types (in order)\n",
    "my_funcs.square.argtypes = [c_int]\n",
    "my_funcs.cube.argtypes = [c_int]\n",
    "my_funcs.square_root.argtypes = [c_float]\n",
    "my_funcs.sum_array.argtypes = [POINTER(c_double), c_int]\n",
    "my_funcs.square_array.argtypes = [POINTER(c_double), c_int]\n",
    "\n",
    "#set return type\n",
    "my_funcs.square.restype = c_int\n",
    "my_funcs.cube.restype = c_int\n",
    "my_funcs.square_root.restype = c_float\n",
    "my_funcs.sum_array.restype = c_double\n",
    "my_funcs.square_array.restype = c_void_p\n"
   ]
  },
  {
   "cell_type": "code",
   "execution_count": 6,
   "metadata": {},
   "outputs": [
    {
     "name": "stdout",
     "output_type": "stream",
     "text": [
      "square(4): 16\n",
      "cube(4): 64\n",
      "square_root(20.5): 4.527692794799805\n",
      "sum_array[1.1, 1.5, 1.5, 1.3, 1.005]: 6.404999999999999\n"
     ]
    }
   ],
   "source": [
    "# testing all basic functions\n",
    "rands = [1.1, 1.5, 1.5, 1.3, 1.005]\n",
    "size = 5\n",
    "\n",
    "A = c_double * size\n",
    "Arr = A(*rands)\n",
    "\n",
    "\n",
    "print(f'square(4): {my_funcs.square(4)}')\n",
    "print(f'cube(4): {my_funcs.cube(4)}')\n",
    "print(f'square_root(20.5): {my_funcs.square_root(20.5)}')\n",
    "print(f'sum_array{rands}: {my_funcs.sum_array(Arr,size)}')"
   ]
  },
  {
   "cell_type": "code",
   "execution_count": 15,
   "metadata": {},
   "outputs": [],
   "source": [
    "#comparing speed up advantages of C over python\n",
    "#and working with arrays\n",
    "\n",
    "size_arr = 10000\n",
    "huge_arr = list(np.random.randn(size_arr))\n",
    "c_arr = (c_double * size_arr)(*huge_arr)\n",
    "\n",
    "\n",
    "t1 = time.time()\n",
    "x1 = sum(huge_arr)\n",
    "elapsed_1 = time.time() - t1 \n",
    "print('it takes python {} ms to sum'.format(elapsed_1))\n",
    "\n",
    "t2 = time.time()\n",
    "x2 = my_funcs.sum_array(c_arr,size_arr)\n",
    "elapsed_2 = time.time() - t2 \n",
    "print('it takes python {} ms to sum'.format(elapsed_2))\n",
    "print(f'\\n\\nSpeedup:{elapsed_1/elapsed_2}\\nError: {x1 - x2}')\n"
   ]
  },
  {
   "cell_type": "code",
   "execution_count": 1,
   "metadata": {},
   "outputs": [
    {
     "ename": "NameError",
     "evalue": "name 'time' is not defined",
     "output_type": "error",
     "traceback": [
      "\u001b[0;31m---------------------------------------------------------------------------\u001b[0m",
      "\u001b[0;31mNameError\u001b[0m                                 Traceback (most recent call last)",
      "\u001b[0;32m<ipython-input-1-ee58c28e1128>\u001b[0m in \u001b[0;36m<module>\u001b[0;34m\u001b[0m\n\u001b[0;32m----> 1\u001b[0;31m \u001b[0mt1\u001b[0m \u001b[0;34m=\u001b[0m \u001b[0mtime\u001b[0m\u001b[0;34m.\u001b[0m\u001b[0mtime\u001b[0m\u001b[0;34m(\u001b[0m\u001b[0;34m)\u001b[0m\u001b[0;34m\u001b[0m\u001b[0;34m\u001b[0m\u001b[0m\n\u001b[0m\u001b[1;32m      2\u001b[0m \u001b[0mx1\u001b[0m \u001b[0;34m=\u001b[0m \u001b[0msum\u001b[0m\u001b[0;34m(\u001b[0m\u001b[0mhuge_arr\u001b[0m\u001b[0;34m)\u001b[0m\u001b[0;34m\u001b[0m\u001b[0;34m\u001b[0m\u001b[0m\n\u001b[1;32m      3\u001b[0m \u001b[0melapsed_1\u001b[0m \u001b[0;34m=\u001b[0m \u001b[0mtime\u001b[0m\u001b[0;34m.\u001b[0m\u001b[0mtime\u001b[0m\u001b[0;34m(\u001b[0m\u001b[0;34m)\u001b[0m \u001b[0;34m-\u001b[0m \u001b[0mt1\u001b[0m\u001b[0;34m\u001b[0m\u001b[0;34m\u001b[0m\u001b[0m\n\u001b[1;32m      4\u001b[0m \u001b[0mprint\u001b[0m\u001b[0;34m(\u001b[0m\u001b[0;34m'it takes python {} ms to sum'\u001b[0m\u001b[0;34m.\u001b[0m\u001b[0mformat\u001b[0m\u001b[0;34m(\u001b[0m\u001b[0melapsed_1\u001b[0m\u001b[0;34m)\u001b[0m\u001b[0;34m)\u001b[0m\u001b[0;34m\u001b[0m\u001b[0;34m\u001b[0m\u001b[0m\n\u001b[1;32m      5\u001b[0m \u001b[0;34m\u001b[0m\u001b[0m\n",
      "\u001b[0;31mNameError\u001b[0m: name 'time' is not defined"
     ]
    }
   ],
   "source": [
    "\n",
    "# Testing pass by reference for multiple input and multiple outputs\n",
    "# Using arrays with void return\n",
    "\n",
    "before_square = [1,2,3,4,5]\n",
    "for_square = (c_double * len(before_square))(*before_square)\n",
    "my_funcs.square_array(for_square, len(before_square))\n",
    "\n",
    "for i in for_square:\n",
    "    print(i, end='  ')"
   ]
  },
  {
   "cell_type": "code",
   "execution_count": null,
   "metadata": {},
   "outputs": [],
   "source": []
  }
 ],
 "metadata": {
  "kernelspec": {
   "display_name": "Python 3",
   "language": "python",
   "name": "python3"
  },
  "language_info": {
   "codemirror_mode": {
    "name": "ipython",
    "version": 3
   },
   "file_extension": ".py",
   "mimetype": "text/x-python",
   "name": "python",
   "nbconvert_exporter": "python",
   "pygments_lexer": "ipython3",
   "version": "3.6.9"
  }
 },
 "nbformat": 4,
 "nbformat_minor": 4
}
